{
  "cells": [
    {
      "cell_type": "markdown",
      "metadata": {
        "id": "view-in-github",
        "colab_type": "text"
      },
      "source": [
        "<a href=\"https://colab.research.google.com/github/igorrhamon/-progweb-pedido-compras-quarkus/blob/master/Ol%C3%A1%2C_este_%C3%A9_o_Colaboratory.ipynb\" target=\"_parent\"><img src=\"https://colab.research.google.com/assets/colab-badge.svg\" alt=\"Open In Colab\"/></a>"
      ]
    },
    {
      "cell_type": "code",
      "source": [
        "pip install ludwig --quiet"
      ],
      "metadata": {
        "id": "COtuYEA6YW63"
      },
      "execution_count": 9,
      "outputs": []
    },
    {
      "cell_type": "code",
      "source": [
        "# prompt: usar o ludwing\n",
        "\n",
        "import pandas as pd\n",
        "from ludwig.api import LudwigModel\n",
        "\n",
        "# Load your data (replace with your actual data)\n",
        "data = pd.DataFrame({\n",
        "    'text': ['This is a positive sentence.',\n",
        "             'This is a negative sentence.',\n",
        "             'This is another positive sentence.'],  # Added a third data point\n",
        "    'label': ['positive', 'negative', 'positive']\n",
        "})\n",
        "\n",
        "\n",
        "# Define the model configuration\n",
        "model_definition = {\n",
        "    \"input_features\": [\n",
        "        {\"name\": \"text\", \"type\": \"text\"}\n",
        "    ],\n",
        "    \"output_features\": [\n",
        "        {\"name\": \"label\", \"type\": \"category\"}\n",
        "    ]\n",
        "}\n",
        "\n",
        "# Create the Ludwig model\n",
        "model = LudwigModel(model_definition)\n",
        "\n",
        "# Train the model\n",
        "train_stats = model.train(training_set=data, output_directory=\"results\")\n",
        "\n",
        "# Make predictions\n",
        "predictions = model.predict(dataset=data)\n",
        "\n",
        "# Print the predictions\n",
        "print(predictions)\n"
      ],
      "metadata": {
        "id": "UBG5X9AKYU-n",
        "outputId": "ce73c129-2059-4d2f-bec9-df6173828d89",
        "colab": {
          "base_uri": "https://localhost:8080/"
        }
      },
      "execution_count": 28,
      "outputs": [
        {
          "output_type": "stream",
          "name": "stdout",
          "text": [
            "(  label_predictions                          label_probabilities  \\\n",
            "0          positive  [0.9999998807907104, 6.693698395565661e-08]   \n",
            "1          negative                 [3.747033971990277e-08, 1.0]   \n",
            "2          positive                [1.0, 1.6998097374099075e-10]   \n",
            "\n",
            "   label_probability  label_probabilities_positive  \\\n",
            "0                1.0                  9.999999e-01   \n",
            "1                1.0                  3.747034e-08   \n",
            "2                1.0                  1.000000e+00   \n",
            "\n",
            "   label_probabilities_negative  \n",
            "0                  6.693698e-08  \n",
            "1                  1.000000e+00  \n",
            "2                  1.699810e-10  , 'results')\n"
          ]
        }
      ]
    }
  ],
  "metadata": {
    "colab": {
      "name": "Olá, este é o Colaboratory",
      "provenance": [],
      "include_colab_link": true
    },
    "kernelspec": {
      "display_name": "Python 3",
      "name": "python3"
    }
  },
  "nbformat": 4,
  "nbformat_minor": 0
}